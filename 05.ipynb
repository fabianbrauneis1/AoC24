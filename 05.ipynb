{
 "cells": [
  {
   "cell_type": "markdown",
   "metadata": {},
   "source": [
    "1"
   ]
  },
  {
   "cell_type": "code",
   "execution_count": 7,
   "metadata": {},
   "outputs": [
    {
     "name": "stdout",
     "output_type": "stream",
     "text": [
      "143\n"
     ]
    }
   ],
   "source": [
    "with open('input/test.txt', 'r') as input:\n",
    "    input = input.read().splitlines()\n",
    "\n",
    "    n = input.index('')\n",
    "    order, update = input[0:n], input[n + 1:]\n",
    "\n",
    "    order_dict = {}\n",
    "\n",
    "    for n1, n2 in zip([int(x[0:2]) for x in order], [int(x[-2:]) for x in order]):\n",
    "        order_dict.setdefault(n1, []).append(n2)\n",
    "    \n",
    "    update = [[int(y) for y in x.split(',')] for x in update]\n",
    "\n",
    "    sum = 0\n",
    "    incorrects = []\n",
    "\n",
    "    for list in update:\n",
    "        right_order = True\n",
    "        for a, b in zip(list, list[1:]):\n",
    "            if b not in order_dict.get(a, []):\n",
    "                incorrects.append(list)\n",
    "                right_order = False\n",
    "                break\n",
    "        if right_order:\n",
    "            sum += list[len(list)//2]\n",
    "\n",
    "print(sum)"
   ]
  },
  {
   "cell_type": "markdown",
   "metadata": {},
   "source": [
    "2"
   ]
  },
  {
   "cell_type": "code",
   "execution_count": 15,
   "metadata": {},
   "outputs": [
    {
     "name": "stdout",
     "output_type": "stream",
     "text": [
      "[75]\n",
      "[97, 75]\n",
      "[97, 75, 47]\n",
      "[97, 75, 47, 61]\n",
      "[97, 75, 47, 61, 53]\n",
      "[61]\n",
      "[61, 13]\n",
      "[29, 61, 13]\n",
      "[97]\n",
      "[97, 13]\n",
      "[75, 97, 13]\n",
      "[29, 75, 97, 13]\n",
      "[47, 29, 75, 97, 13]\n",
      "183\n"
     ]
    }
   ],
   "source": [
    "sum = 0\n",
    "\n",
    "for update_list in incorrects:\n",
    "    new_list = [update_list[0]]\n",
    "    for i in range(1, len(update_list)):\n",
    "        print(new_list)\n",
    "        if update_list[i] in order_dict.get(new_list[-1], []):\n",
    "            new_list.append(update_list[i])\n",
    "        else:\n",
    "            new_list.insert(0, update_list[i])\n",
    "    print(new_list)\n",
    "    sum += new_list[len(new_list)//2]\n",
    "\n",
    "print(sum)\n"
   ]
  },
  {
   "cell_type": "code",
   "execution_count": 16,
   "metadata": {},
   "outputs": [
    {
     "name": "stdout",
     "output_type": "stream",
     "text": [
      "7198\n",
      "4230\n"
     ]
    }
   ],
   "source": [
    "import sys\n",
    "import re\n",
    "from collections import defaultdict, Counter, deque\n",
    "import pyperclip as pc\n",
    "def pr(s):\n",
    "    print(s)\n",
    "    pc.copy(s)\n",
    "sys.setrecursionlimit(10**6)\n",
    "infile = 'input/5.txt'\n",
    "p1 = 0\n",
    "p2 = 0\n",
    "D = open(infile).read().strip()\n",
    "\n",
    "# E[x] is the set of pages that must come before x\n",
    "# ER[x] is the set of pages that must come after x\n",
    "E = defaultdict(set)\n",
    "ER = defaultdict(set)\n",
    "edges, queries = D.split('\\n\\n')\n",
    "for line in edges.split('\\n'):\n",
    "    x,y = line.split('|')\n",
    "    x,y = int(x), int(y)\n",
    "    E[y].add(x)\n",
    "    ER[x].add(y)\n",
    "\n",
    "for query in queries.split('\\n'):\n",
    "    vs = [int(x) for x in query.split(',')]\n",
    "    assert len(vs)%2==1\n",
    "    ok = True\n",
    "    for i,x in enumerate(vs):\n",
    "        for j,y in enumerate(vs):\n",
    "            if i<j and y in E[x]:\n",
    "                ok = False\n",
    "    if ok:\n",
    "        p1 += vs[len(vs)//2]\n",
    "    else:\n",
    "        good = []\n",
    "        Q = deque([])\n",
    "        D = {v: len(E[v] & set(vs)) for v in vs}\n",
    "        for v in vs:\n",
    "            if D[v] == 0:\n",
    "                Q.append(v)\n",
    "        while Q:\n",
    "            x = Q.popleft()\n",
    "            good.append(x)\n",
    "            for y in ER[x]:\n",
    "                if y in D:\n",
    "                    D[y] -= 1\n",
    "                    if D[y] == 0:\n",
    "                        Q.append(y)\n",
    "        p2 += good[len(good)//2]\n",
    "pr(p1)\n",
    "pr(p2)"
   ]
  }
 ],
 "metadata": {
  "kernelspec": {
   "display_name": "Python 3",
   "language": "python",
   "name": "python3"
  },
  "language_info": {
   "codemirror_mode": {
    "name": "ipython",
    "version": 3
   },
   "file_extension": ".py",
   "mimetype": "text/x-python",
   "name": "python",
   "nbconvert_exporter": "python",
   "pygments_lexer": "ipython3",
   "version": "3.11.5"
  }
 },
 "nbformat": 4,
 "nbformat_minor": 2
}
