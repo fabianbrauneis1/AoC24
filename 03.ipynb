{
 "cells": [
  {
   "cell_type": "markdown",
   "metadata": {},
   "source": [
    "1"
   ]
  },
  {
   "cell_type": "code",
   "execution_count": 109,
   "metadata": {},
   "outputs": [
    {
     "name": "stdout",
     "output_type": "stream",
     "text": [
      "188116424\n"
     ]
    }
   ],
   "source": [
    "import re\n",
    "\n",
    "sum = 0\n",
    "\n",
    "with open('input/3.txt', 'r') as text:\n",
    "    text = text.read()\n",
    "    sub = re.findall(\"mul\\(\\d+,\\d+\\)\", text)\n",
    "    for element in sub:\n",
    "        element = element.replace(\"mul(\", \"\").replace(\")\", \"\").split(',')\n",
    "        sum += int(element[0]) * int(element[1])\n",
    "\n",
    "print(sum)"
   ]
  },
  {
   "cell_type": "code",
   "execution_count": 146,
   "metadata": {},
   "outputs": [
    {
     "name": "stdout",
     "output_type": "stream",
     "text": [
      "104245808\n"
     ]
    }
   ],
   "source": [
    "sum = 0\n",
    "\n",
    "with open('input/3.txt', 'r') as text:\n",
    "    text = text.read()\n",
    "    sub = re.findall(\"mul\\(\\d+,\\d+\\)|don't\\(\\)|do\\(\\)\", text)\n",
    "\n",
    "    calc = True\n",
    "\n",
    "    for element in sub:\n",
    "        if element == \"don't()\":\n",
    "            calc = False\n",
    "            \n",
    "        if element == 'do()':\n",
    "            calc = True\n",
    "\n",
    "        if element[0:3] == 'mul' and calc:\n",
    "            val = element.replace(\"mul(\", \"\").replace(\")\", \"\").split(',')\n",
    "            sum += int(val[0]) * int(val[1])\n",
    "\n",
    "print(sum)"
   ]
  }
 ],
 "metadata": {
  "kernelspec": {
   "display_name": "Python 3",
   "language": "python",
   "name": "python3"
  },
  "language_info": {
   "codemirror_mode": {
    "name": "ipython",
    "version": 3
   },
   "file_extension": ".py",
   "mimetype": "text/x-python",
   "name": "python",
   "nbconvert_exporter": "python",
   "pygments_lexer": "ipython3",
   "version": "3.11.5"
  }
 },
 "nbformat": 4,
 "nbformat_minor": 2
}
