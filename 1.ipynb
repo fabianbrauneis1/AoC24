{
 "cells": [
  {
   "cell_type": "markdown",
   "metadata": {},
   "source": [
    "1"
   ]
  },
  {
   "cell_type": "code",
   "execution_count": 2,
   "metadata": {},
   "outputs": [
    {
     "data": {
      "text/plain": [
       "2031679"
      ]
     },
     "execution_count": 2,
     "metadata": {},
     "output_type": "execute_result"
    }
   ],
   "source": [
    "a = []\n",
    "b = []\n",
    "c = []\n",
    "\n",
    "with open('input/1.txt', 'r') as txt:\n",
    "    text = txt.read()\n",
    "    text = text.split()\n",
    "    for i, ii in enumerate(text):\n",
    "        if i % 2 == 0:\n",
    "            a.append(int(ii))\n",
    "        else:\n",
    "            b.append(int(ii))\n",
    "\n",
    "a.sort()\n",
    "b.sort()\n",
    "\n",
    "for i in range(len(a)):\n",
    "    c.append(abs(a[i] - b[i]))\n",
    "\n",
    "sum(c)"
   ]
  },
  {
   "cell_type": "markdown",
   "metadata": {},
   "source": [
    "2"
   ]
  },
  {
   "cell_type": "code",
   "execution_count": 11,
   "metadata": {},
   "outputs": [
    {
     "name": "stdout",
     "output_type": "stream",
     "text": [
      "19678534\n"
     ]
    }
   ],
   "source": [
    "sum = 0\n",
    "\n",
    "for i in a:\n",
    "    count = 0\n",
    "    for ii in b:\n",
    "        if i == ii:\n",
    "            count += 1\n",
    "    sum = sum + i * count\n",
    "\n",
    "print(sum)"
   ]
  }
 ],
 "metadata": {
  "kernelspec": {
   "display_name": "Masterarbeit",
   "language": "python",
   "name": "python3"
  },
  "language_info": {
   "codemirror_mode": {
    "name": "ipython",
    "version": 3
   },
   "file_extension": ".py",
   "mimetype": "text/x-python",
   "name": "python",
   "nbconvert_exporter": "python",
   "pygments_lexer": "ipython3",
   "version": "3.13.0"
  },
  "orig_nbformat": 4
 },
 "nbformat": 4,
 "nbformat_minor": 2
}
