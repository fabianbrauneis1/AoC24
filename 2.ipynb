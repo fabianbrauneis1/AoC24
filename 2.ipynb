{
 "cells": [
  {
   "cell_type": "markdown",
   "metadata": {},
   "source": [
    "1"
   ]
  },
  {
   "cell_type": "code",
   "execution_count": 13,
   "metadata": {},
   "outputs": [
    {
     "data": {
      "text/plain": [
       "371"
      ]
     },
     "execution_count": 13,
     "metadata": {},
     "output_type": "execute_result"
    }
   ],
   "source": [
    "file = open('input/2.txt', 'r')\n",
    "lines = file.read().splitlines()\n",
    "\n",
    "safe_count = 0\n",
    "\n",
    "for line in lines:\n",
    "    numbers = list(map(int, line.split()))\n",
    "\n",
    "    direction = 'inc' if numbers[1] > numbers[0] else 'dec'\n",
    "\n",
    "    count_bool = True\n",
    "\n",
    "    for a, b in zip(numbers, numbers[1:]):\n",
    "        if not (1 <= abs(a - b) <= 3):\n",
    "            count_bool = False\n",
    "        if direction == 'inc' and b <= a:\n",
    "            count_bool = False\n",
    "        if direction == 'dec' and b >= a:\n",
    "            count_bool = False\n",
    "\n",
    "    if count_bool:\n",
    "        safe_count += 1\n",
    "\n",
    "safe_count"
   ]
  },
  {
   "cell_type": "markdown",
   "metadata": {},
   "source": [
    "2"
   ]
  },
  {
   "cell_type": "code",
   "execution_count": 69,
   "metadata": {},
   "outputs": [
    {
     "name": "stdout",
     "output_type": "stream",
     "text": [
      "426\n"
     ]
    }
   ],
   "source": [
    "def is_valid(numbers):\n",
    "    if len(numbers) < 2:\n",
    "        return True\n",
    "\n",
    "    direction = 'inc' if numbers[1] > numbers[0] else 'dec'\n",
    "    for a, b in zip(numbers, numbers[1:]):\n",
    "        if not (1 <= abs(a - b) <= 3):\n",
    "            return False\n",
    "        if direction == 'inc' and b <= a:\n",
    "            return False\n",
    "        if direction == 'dec' and b >= a:\n",
    "            return False\n",
    "    return True\n",
    "\n",
    "safe_count = 0\n",
    "\n",
    "with open('input/2.txt', 'r') as file:\n",
    "    lines = file.read().splitlines()\n",
    "\n",
    "    for line in lines:\n",
    "        numbers = list(map(int, line.split()))\n",
    "        if is_valid(numbers):\n",
    "            safe_count += 1\n",
    "        else:\n",
    "            for i in range(len(numbers)):\n",
    "                if is_valid(numbers[:i] + numbers[i+1:]):\n",
    "                    safe_count += 1\n",
    "                    break\n",
    "\n",
    "print(safe_count)"
   ]
  }
 ],
 "metadata": {
  "kernelspec": {
   "display_name": "Python 3",
   "language": "python",
   "name": "python3"
  },
  "language_info": {
   "codemirror_mode": {
    "name": "ipython",
    "version": 3
   },
   "file_extension": ".py",
   "mimetype": "text/x-python",
   "name": "python",
   "nbconvert_exporter": "python",
   "pygments_lexer": "ipython3",
   "version": "3.11.5"
  }
 },
 "nbformat": 4,
 "nbformat_minor": 2
}
