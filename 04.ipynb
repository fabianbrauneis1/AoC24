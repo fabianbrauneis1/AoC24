{
 "cells": [
  {
   "cell_type": "markdown",
   "metadata": {},
   "source": [
    "1"
   ]
  },
  {
   "cell_type": "code",
   "execution_count": 170,
   "metadata": {},
   "outputs": [
    {
     "data": {
      "text/plain": [
       "2545"
      ]
     },
     "execution_count": 170,
     "metadata": {},
     "output_type": "execute_result"
    }
   ],
   "source": [
    "import re\n",
    "\n",
    "matrix = open('input/4.txt').read().splitlines()\n",
    "\n",
    "n_sum = 0\n",
    "\n",
    "# -->\n",
    "for row in matrix:\n",
    "    find = re.findall('XMAS', row)\n",
    "    n = len(find)\n",
    "    n_sum += n\n",
    "\n",
    "# <--\n",
    "for row in matrix:\n",
    "    find = re.findall('XMAS', row[::-1])\n",
    "    n = len(find)\n",
    "    n_sum += n\n",
    "\n",
    "# ||\n",
    "# \\/\n",
    "for i in range(len(matrix)):\n",
    "    row = \"\".join(row[i] for row in matrix)\n",
    "    find = re.findall('XMAS', row)\n",
    "    n = len(find)\n",
    "    n_sum += n\n",
    "\n",
    "# /\\\n",
    "# ||\n",
    "for i in range(len(matrix)):\n",
    "    row = \"\".join(row[i] for row in matrix)\n",
    "    find = re.findall('XMAS', row[::-1])\n",
    "    n = len(find)\n",
    "    n_sum += n\n",
    "\n",
    "matrix_single_dig = [list(row) for row in matrix]\n",
    "\n",
    "def collect_diagonals(matrix):\n",
    "    diagonals = []\n",
    "    rows = len(matrix)\n",
    "    cols = len(matrix[0])\n",
    "    \n",
    "    for d in range(rows + cols - 1):\n",
    "        diag = []\n",
    "        for i in range(max(0, d - cols + 1), min(rows, d + 1)):\n",
    "            diag.append(matrix[i][d - i])\n",
    "        diagonals.append(\"\".join(diag))\n",
    "    \n",
    "    for d in range(rows + cols - 1):\n",
    "        diag = []\n",
    "        for i in range(max(0, d - cols + 1), min(rows, d + 1)):\n",
    "            diag.append(matrix[i][cols - 1 - (d - i)])\n",
    "        diagonals.append(\"\".join(diag))\n",
    "    \n",
    "    return diagonals\n",
    "\n",
    "diagonals = collect_diagonals(matrix_single_dig)\n",
    "\n",
    "for diag in diagonals:\n",
    "    find = re.findall('XMAS', diag)\n",
    "    n = len(find)\n",
    "    n_sum += n\n",
    "\n",
    "for diag in diagonals:\n",
    "    find = re.findall('XMAS', diag[::-1])\n",
    "    n = len(find)\n",
    "    n_sum += n\n",
    "n_sum"
   ]
  },
  {
   "cell_type": "code",
   "execution_count": 172,
   "metadata": {},
   "outputs": [
    {
     "data": {
      "text/plain": [
       "1886"
      ]
     },
     "execution_count": 172,
     "metadata": {},
     "output_type": "execute_result"
    }
   ],
   "source": [
    "n_sum = 0\n",
    "\n",
    "matrix = open('input/4.txt').read().splitlines()\n",
    "matrix = [list(row) for row in matrix]\n",
    "\n",
    "size = len(matrix)\n",
    "\n",
    "for i in range(1, size - 1, 1):\n",
    "    for ii in range(1, size - 1, 1):\n",
    "        if matrix[i][ii] == 'A':\n",
    "            lo = matrix[i-1][ii-1]\n",
    "            ro = matrix[i-1][ii+1]\n",
    "            lu = matrix[i+1][ii-1]\n",
    "            ru = matrix[i+1][ii+1]\n",
    "\n",
    "            if (lo == 'M' and ru == 'S') or (lo == 'S' and ru == 'M'):\n",
    "                if (lu == 'M' and ro == 'S') or (lu == 'S' and ro == 'M'):\n",
    "                    n_sum += 1\n",
    "\n",
    "n_sum"
   ]
  },
  {
   "cell_type": "markdown",
   "metadata": {},
   "source": [
    "Chat GPT"
   ]
  },
  {
   "cell_type": "code",
   "execution_count": 117,
   "metadata": {},
   "outputs": [
    {
     "data": {
      "text/plain": [
       "18"
      ]
     },
     "execution_count": 117,
     "metadata": {},
     "output_type": "execute_result"
    }
   ],
   "source": [
    "matrix = open('input/test.txt').read().splitlines()\n",
    "\n",
    "matrix_single_dig = [list(row) for row in matrix]\n",
    "\n",
    "def find_xmas(grid):\n",
    "    def check_direction(x, y, dx, dy):\n",
    "        for i in range(4):\n",
    "            if not (0 <= x + i*dx < len(grid) and 0 <= y + i*dy < len(grid[0])):\n",
    "                return False\n",
    "            if grid[x + i*dx][y + i*dy] != \"XMAS\"[i]:\n",
    "                return False\n",
    "        return True\n",
    "\n",
    "    directions = [\n",
    "        (0, 1),  # horizontal right\n",
    "        (0, -1), # horizontal left\n",
    "        (1, 0),  # vertical down\n",
    "        (-1, 0), # vertical up\n",
    "        (1, 1),  # diagonal down-right\n",
    "        (-1, -1),# diagonal up-left\n",
    "        (1, -1), # diagonal down-left\n",
    "        (-1, 1)  # diagonal up-right\n",
    "    ]\n",
    "\n",
    "    count = 0\n",
    "    for x in range(len(grid)):\n",
    "        for y in range(len(grid[0])):\n",
    "            for dx, dy in directions:\n",
    "                if check_direction(x, y, dx, dy):\n",
    "                    count += 1\n",
    "    return count\n",
    "\n",
    "find_xmas(matrix_single_dig)"
   ]
  }
 ],
 "metadata": {
  "language_info": {
   "name": "python"
  }
 },
 "nbformat": 4,
 "nbformat_minor": 2
}
